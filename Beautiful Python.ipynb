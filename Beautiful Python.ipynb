{
 "metadata": {
  "name": "",
  "signature": "sha256:6b812de702c49f36d49950e7bd9e74ab29ca71010e682dec0c8c90808538a383"
 },
 "nbformat": 3,
 "nbformat_minor": 0,
 "worksheets": [
  {
   "cells": [
    {
     "cell_type": "markdown",
     "metadata": {},
     "source": [
      " "
     ]
    },
    {
     "cell_type": "markdown",
     "metadata": {},
     "source": [
      "# Zen of Python "
     ]
    },
    {
     "cell_type": "code",
     "collapsed": false,
     "input": [
      "import this "
     ],
     "language": "python",
     "metadata": {},
     "outputs": [
      {
       "output_type": "stream",
       "stream": "stdout",
       "text": [
        "The Zen of Python, by Tim Peters\n",
        "\n",
        "Beautiful is better than ugly.\n",
        "Explicit is better than implicit.\n",
        "Simple is better than complex.\n",
        "Complex is better than complicated.\n",
        "Flat is better than nested.\n",
        "Sparse is better than dense.\n",
        "Readability counts.\n",
        "Special cases aren't special enough to break the rules.\n",
        "Although practicality beats purity.\n",
        "Errors should never pass silently.\n",
        "Unless explicitly silenced.\n",
        "In the face of ambiguity, refuse the temptation to guess.\n",
        "There should be one-- and preferably only one --obvious way to do it.\n",
        "Although that way may not be obvious at first unless you're Dutch.\n",
        "Now is better than never.\n",
        "Although never is often better than *right* now.\n",
        "If the implementation is hard to explain, it's a bad idea.\n",
        "If the implementation is easy to explain, it may be a good idea.\n",
        "Namespaces are one honking great idea -- let's do more of those!\n"
       ]
      }
     ],
     "prompt_number": 1
    },
    {
     "cell_type": "markdown",
     "metadata": {},
     "source": [
      "## Import packages"
     ]
    },
    {
     "cell_type": "code",
     "collapsed": false,
     "input": [
      "import pandas as pd \n",
      "from itertools import izip\n",
      "from collections import defaultdict"
     ],
     "language": "python",
     "metadata": {},
     "outputs": [
      {
       "output_type": "stream",
       "stream": "stderr",
       "text": [
        "Vendor:  Continuum Analytics, Inc.\n",
        "Package: mkl\n",
        "Message: trial mode expires in 24 days\n",
        "Vendor:  Continuum Analytics, Inc.\n",
        "Package: mkl\n",
        "Message: trial mode expires in 24 days\n"
       ]
      }
     ],
     "prompt_number": 2
    },
    {
     "cell_type": "markdown",
     "metadata": {},
     "source": [
      "# "
     ]
    },
    {
     "cell_type": "markdown",
     "metadata": {},
     "source": [
      "# Lists, Tuples and loops\n"
     ]
    },
    {
     "cell_type": "code",
     "collapsed": false,
     "input": [
      "# Variables\n",
      "colors = ['red', 'green', 'blue', 'yellow']\n",
      "names = ['raymond', 'rachel', 'matthew']"
     ],
     "language": "python",
     "metadata": {},
     "outputs": [],
     "prompt_number": 3
    },
    {
     "cell_type": "code",
     "collapsed": false,
     "input": [
      "izip(colors,names) # this is a generator "
     ],
     "language": "python",
     "metadata": {},
     "outputs": [
      {
       "metadata": {},
       "output_type": "pyout",
       "prompt_number": 9,
       "text": [
        "<itertools.izip at 0x1123b83f8>"
       ]
      }
     ],
     "prompt_number": 9
    },
    {
     "cell_type": "code",
     "collapsed": false,
     "input": [
      "for color,name in izip(colors,names):\n",
      "    print name, '--->', color"
     ],
     "language": "python",
     "metadata": {},
     "outputs": [
      {
       "output_type": "stream",
       "stream": "stdout",
       "text": [
        "raymond ---> red\n",
        "rachel ---> green\n",
        "matthew ---> blue\n"
       ]
      }
     ],
     "prompt_number": 6
    },
    {
     "cell_type": "code",
     "collapsed": false,
     "input": [
      "for i,color in enumerate(colors):\n",
      "    print i,'--->',color"
     ],
     "language": "python",
     "metadata": {},
     "outputs": [
      {
       "output_type": "stream",
       "stream": "stdout",
       "text": [
        "0 ---> red\n",
        "1 ---> green\n",
        "2 ---> blue\n",
        "3 ---> yellow\n"
       ]
      }
     ],
     "prompt_number": 8
    },
    {
     "cell_type": "code",
     "collapsed": false,
     "input": [
      "# Creating four None \n",
      "four_nones = [None] * 4\n",
      "\n",
      "# Creating four lists \n",
      "four_lists = [[] for _ in xrange(4)]"
     ],
     "language": "python",
     "metadata": {},
     "outputs": [],
     "prompt_number": 11
    },
    {
     "cell_type": "code",
     "collapsed": false,
     "input": [
      "# More advanced unpacking \n",
      "\n",
      "# swap \n",
      "a,b = 1,2\n",
      "a,b = b,a\n",
      "lup = [1234,10000,'vacation']\n",
      "loan_id,amount,purpose = lup\n",
      "amount"
     ],
     "language": "python",
     "metadata": {},
     "outputs": [
      {
       "metadata": {},
       "output_type": "pyout",
       "prompt_number": 15,
       "text": [
        "10000"
       ]
      }
     ],
     "prompt_number": 15
    },
    {
     "cell_type": "code",
     "collapsed": false,
     "input": [
      "# Unpacking in a list \n",
      "for (loan_id,amount,purpose) in [lup,[1235,5000,'home_improvment']]:\n",
      "    print amount,purpose"
     ],
     "language": "python",
     "metadata": {},
     "outputs": [
      {
       "output_type": "stream",
       "stream": "stdout",
       "text": [
        "10000 vacation\n",
        "5000 home_improvment\n"
       ]
      }
     ],
     "prompt_number": 16
    },
    {
     "cell_type": "code",
     "collapsed": false,
     "input": [
      "# List comprehension \n",
      "l =[1,5,4,3,2]\n",
      "[e for e in l if e > 2]"
     ],
     "language": "python",
     "metadata": {},
     "outputs": [
      {
       "metadata": {},
       "output_type": "pyout",
       "prompt_number": 3,
       "text": [
        "[5, 4, 3]"
       ]
      }
     ],
     "prompt_number": 3
    },
    {
     "cell_type": "code",
     "collapsed": false,
     "input": [
      "# With a lambda function \n",
      "filter(lambda x: x > 2, l)"
     ],
     "language": "python",
     "metadata": {},
     "outputs": [
      {
       "metadata": {},
       "output_type": "pyout",
       "prompt_number": 2,
       "text": [
        "[5, 4, 3]"
       ]
      }
     ],
     "prompt_number": 2
    },
    {
     "cell_type": "markdown",
     "metadata": {},
     "source": [
      "#Dictionnaries"
     ]
    },
    {
     "cell_type": "code",
     "collapsed": false,
     "input": [
      "d = {'matthew': 'blue', 'rachel': 'green', 'raymond': 'red'}"
     ],
     "language": "python",
     "metadata": {},
     "outputs": []
    },
    {
     "cell_type": "code",
     "collapsed": false,
     "input": [
      "for k in d :\n",
      "    print k "
     ],
     "language": "python",
     "metadata": {},
     "outputs": [
      {
       "output_type": "stream",
       "stream": "stdout",
       "text": [
        "matthew\n",
        "rachel\n",
        "raymond\n"
       ]
      }
     ],
     "prompt_number": 18
    },
    {
     "cell_type": "code",
     "collapsed": false,
     "input": [
      "# If you are mutating the dictionary use d.keys() that is creating a copy \n",
      "for k in d.keys():\n",
      "    del d[k]\n",
      "d\n",
      "d = {'matthew': 'blue', 'rachel': 'green', 'raymond': 'red'}"
     ],
     "language": "python",
     "metadata": {},
     "outputs": [],
     "prompt_number": 24
    },
    {
     "cell_type": "code",
     "collapsed": false,
     "input": [
      "d.items() # is a list of tuples "
     ],
     "language": "python",
     "metadata": {},
     "outputs": [
      {
       "metadata": {},
       "output_type": "pyout",
       "prompt_number": 25,
       "text": [
        "[('matthew', 'blue'), ('rachel', 'green'), ('raymond', 'red')]"
       ]
      }
     ],
     "prompt_number": 25
    },
    {
     "cell_type": "code",
     "collapsed": false,
     "input": [
      "d.iteritems() # is an iterator"
     ],
     "language": "python",
     "metadata": {},
     "outputs": [
      {
       "metadata": {},
       "output_type": "pyout",
       "prompt_number": 26,
       "text": [
        "<dictionary-itemiterator at 0x1123aa628>"
       ]
      }
     ],
     "prompt_number": 26
    },
    {
     "cell_type": "code",
     "collapsed": false,
     "input": [
      "# more computer efficient than d.items()\n",
      "for k, v in d.iteritems():\n",
      "    print k, '--->', v"
     ],
     "language": "python",
     "metadata": {},
     "outputs": [
      {
       "output_type": "stream",
       "stream": "stdout",
       "text": [
        "matthew ---> blue\n",
        "rachel ---> green\n",
        "raymond ---> red\n"
       ]
      }
     ],
     "prompt_number": 27
    },
    {
     "cell_type": "code",
     "collapsed": false,
     "input": [
      "# Constructing a dictionnary from 2 lists \n",
      "names = ['raymond', 'rachel', 'matthew']\n",
      "colors = ['red', 'green', 'blue']\n",
      "\n",
      "d = dict(izip(names, colors))"
     ],
     "language": "python",
     "metadata": {},
     "outputs": [],
     "prompt_number": 29
    },
    {
     "cell_type": "code",
     "collapsed": false,
     "input": [
      "def beautiful_histo(l):\n",
      "    d = {}\n",
      "    for e in l:\n",
      "        d[e] = d.get(e,0) +1\n",
      "    return d\n",
      "\n",
      "beautiful_histo(['red', 'green', 'red', 'blue', 'green', 'red'])     "
     ],
     "language": "python",
     "metadata": {},
     "outputs": []
    },
    {
     "cell_type": "code",
     "collapsed": false,
     "input": [
      "# Dictionnary grouping \n",
      "names = ['raymond', 'rachel', 'matthew', 'roger',\n",
      "         'betty', 'melissa', 'judith', 'charlie']\n",
      "# i want name group by len \n",
      "         \n",
      "d_g = defaultdict(list)"
     ],
     "language": "python",
     "metadata": {},
     "outputs": []
    },
    {
     "cell_type": "code",
     "collapsed": false,
     "input": [
      "for name in names :\n",
      "    key = len(name)\n",
      "    d_g[key].append(name)\n",
      "print d_g"
     ],
     "language": "python",
     "metadata": {},
     "outputs": [
      {
       "output_type": "stream",
       "stream": "stdout",
       "text": [
        "defaultdict(<type 'list'>, {5: ['roger', 'betty'], 6: ['rachel', 'judith'], 7: ['raymond', 'matthew', 'melissa', 'charlie']})\n"
       ]
      }
     ],
     "prompt_number": 28
    },
    {
     "cell_type": "code",
     "collapsed": false,
     "input": [
      "# Quick benchmark ipython execute one by one \n",
      "%timeit sum([i*i for i in range(100000)])\n",
      "%timeit sum(i*i for i in range(100000))\n",
      "%timeit sum(i*i for i in xrange(100000))"
     ],
     "language": "python",
     "metadata": {},
     "outputs": [
      {
       "output_type": "stream",
       "stream": "stdout",
       "text": [
        "100 loops, best of 3: 7.12 ms per loop\n",
        "100 loops, best of 3: 6.74 ms per loop"
       ]
      },
      {
       "output_type": "stream",
       "stream": "stdout",
       "text": [
        "\n",
        "100 loops, best of 3: 6.18 ms per loop"
       ]
      },
      {
       "output_type": "stream",
       "stream": "stdout",
       "text": [
        "\n"
       ]
      }
     ],
     "prompt_number": 34
    },
    {
     "cell_type": "code",
     "collapsed": false,
     "input": [
      "%%file test.txt\n",
      "id,purpose,vacation\n",
      "1232,9000,vacation\n",
      "1233,15000,credit_card\n"
     ],
     "language": "python",
     "metadata": {},
     "outputs": [
      {
       "output_type": "stream",
       "stream": "stdout",
       "text": [
        "Overwriting test.txt\n"
       ]
      }
     ],
     "prompt_number": 18
    },
    {
     "cell_type": "code",
     "collapsed": false,
     "input": [
      "%ls"
     ],
     "language": "python",
     "metadata": {},
     "outputs": [
      {
       "output_type": "stream",
       "stream": "stdout",
       "text": [
        "Beautiful Python.ipynb  beautiful_python.py\r\n",
        "Dive_into_python.py     test.txt\r\n"
       ]
      }
     ],
     "prompt_number": 17
    },
    {
     "cell_type": "code",
     "collapsed": false,
     "input": [
      "# Read a file properly\n",
      "d ={}\n",
      "with open('test.txt','r') as f:\n",
      "    l = []\n",
      "    headers = f.next().split(',')\n",
      "    while f.next():\n",
      "        l.append(f.next().split(','))\n",
      "    print l \n",
      "            \n",
      "    "
     ],
     "language": "python",
     "metadata": {},
     "outputs": []
    },
    {
     "cell_type": "code",
     "collapsed": false,
     "input": [
      "with open('test.txt','r') as f:\n",
      "    data = f.readlines()"
     ],
     "language": "python",
     "metadata": {},
     "outputs": [],
     "prompt_number": 43
    },
    {
     "cell_type": "code",
     "collapsed": false,
     "input": [
      "data"
     ],
     "language": "python",
     "metadata": {},
     "outputs": [
      {
       "metadata": {},
       "output_type": "pyout",
       "prompt_number": 44,
       "text": [
        "['id,purpose,vacation\\n', '1232,9000,vacation\\n', '1233,15000,credit_card']"
       ]
      }
     ],
     "prompt_number": 44
    },
    {
     "cell_type": "code",
     "collapsed": false,
     "input": [
      "%ls"
     ],
     "language": "python",
     "metadata": {},
     "outputs": [
      {
       "output_type": "stream",
       "stream": "stdout",
       "text": [
        "Beautiful Python.ipynb  beautiful_python.py\r\n",
        "Dive_into_python.py     test.txt\r\n"
       ]
      }
     ],
     "prompt_number": 33
    },
    {
     "cell_type": "code",
     "collapsed": false,
     "input": [
      "    for line in\n",
      "    for value, key in tuples:\n",
      "    result.setdefault(key, []).append(value)\n",
      "    "
     ],
     "language": "python",
     "metadata": {},
     "outputs": []
    }
   ],
   "metadata": {}
  }
 ]
}